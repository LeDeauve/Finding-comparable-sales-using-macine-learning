{
 "cells": [
  {
   "cell_type": "code",
   "execution_count": null,
   "id": "08d57202",
   "metadata": {},
   "outputs": [],
   "source": [
    "# Import packages\n",
    "import numpy as np\n",
    "import hdbscan\n",
    "# Load data"
   ]
  },
  {
   "cell_type": "code",
   "execution_count": null,
   "id": "e73ae02d",
   "metadata": {},
   "outputs": [],
   "source": [
    "# Create functions\n",
    "def euclidian_distance(vector_1,vector_2):\n",
    "    try:\n",
    "        distance = vector_1-vector_2\n",
    "        return np.sqrt(np.dot(distance,distance))\n",
    "    except TypeError(\"Vectors not same length.\") as e:\n",
    "        print(e)\n",
    "\n",
    "def center_of_mass(clusters):\n",
    "    cluster_centers = clusters\n",
    "    return cluster_centers\n",
    "\n",
    "def create_basis_vector(clusters):\n",
    "    \"\"\"Takes a set of clusters and creates a basis vector using the center of mass of the clusters as coordinates.\"\"\"\n",
    "    cluster_centers = center_of_mass(clusters)\n",
    "    basis = cluster_centers\n",
    "    return basis\n",
    "\n",
    "def reduce_dimension(vector,clusters):\n",
    "    \"\"\"Takes a vector and a set of clusters and reduces the vectors dimension to the number of clusters using the clusters as a basis.\"\"\"\n",
    "    # Vector projection\n",
    "    transformation_matrix = np.zeros([len(clusters), len(vector)])\n",
    "\n",
    "    for i in clusters:\n",
    "        transformation_matrix[i] = center_of_mass(clusters[i])\n",
    "\n",
    "    reduced_vector = transformation_matrix * vector\n",
    "    return reduced_vector"
   ]
  },
  {
   "cell_type": "markdown",
   "id": "3373ce6e",
   "metadata": {},
   "source": [
    "# Outline\n",
    "1. Find Clusters using hdbscan.\n",
    "2. Find the centers of the clusters.\n",
    "3. Reduce the dimensionality to the number of clusters and create a new vector space.\n",
    "4. Find a suitable model for finding comparisons."
   ]
  },
  {
   "cell_type": "code",
   "execution_count": null,
   "id": "610134b1",
   "metadata": {},
   "outputs": [],
   "source": [
    "\n",
    "# Clustering\n",
    "clusterer = hdbscan.HDBSCAN()"
   ]
  }
 ],
 "metadata": {
  "kernelspec": {
   "display_name": "Machine_Learning",
   "language": "python",
   "name": "python3"
  },
  "language_info": {
   "name": "python",
   "version": "3.13.0"
  }
 },
 "nbformat": 4,
 "nbformat_minor": 5
}
