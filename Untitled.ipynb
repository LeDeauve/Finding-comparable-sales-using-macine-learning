{
  "cells": [
    {
      "cell_type": "code",
      "source": [
        "\n",
        "# azureml-core of version 1.0.72 or higher is required\n",
        "from azureml.core import Workspace, Dataset\n",
        "\n",
        "subscription_id = '3add920b-272b-41b6-9beb-e23444539f4f'\n",
        "resource_group = 'exjobb-ht-2025-chalmers-rg'\n",
        "workspace_name = 'exjobb-ht-2025-chalmers-ws'\n",
        "\n",
        "workspace = Workspace(subscription_id, resource_group, workspace_name)\n",
        "\n",
        "dataset = Dataset.get_by_name(workspace, name='transactions')\n",
        "dataset.download(target_path='.', overwrite=False)"
      ],
      "outputs": [
        {
          "output_type": "stream",
          "name": "stderr",
          "text": "/anaconda/envs/azureml_py310_sdkv2/lib/python3.10/site-packages/mlflow/__init__.py:41: UserWarning: Versions of mlflow (3.1.1) and mlflow-skinny (2.22.1) are different. This may lead to unexpected behavior. Please install the same version of both packages.\n  mlflow.mismatch._check_version_mismatch()\n"
        },
        {
          "output_type": "stream",
          "name": "stdout",
          "text": "Resolving access token for scope \"https://storage.azure.com/.default\" using identity of type \"MANAGED\".\nGetting data access token with Assigned Identity (client_id=clientid) and endpoint type based on configuration\n{'infer_column_types': 'False', 'activity': 'download.to_path'}\n{'infer_column_types': 'False', 'activity': 'download.to_path', 'activityApp': 'FileDataset'}\n{'infer_column_types': 'False', 'activity': 'download'}\n{'infer_column_types': 'False', 'activity': 'download', 'activityApp': 'FileDataset'}\n"
        },
        {
          "output_type": "execute_result",
          "execution_count": 1,
          "data": {
            "text/plain": "['/mnt/batch/tasks/shared/LS_root/mounts/clusters/lightcpu/code/Users/Magnus.Persson/data_exjobb_070425.parquet']"
          },
          "metadata": {}
        }
      ],
      "execution_count": 1,
      "metadata": {
        "gather": {
          "logged": 1758187018038
        }
      }
    },
    {
      "cell_type": "code",
      "source": [
        "import pandas as pd\n",
        "df = pd.read_parquet('data_exjobb_070425.parquet')\n",
        "df.head()"
      ],
      "outputs": [
        {
          "output_type": "execute_result",
          "execution_count": 2,
          "data": {
            "text/plain": "  TransactionId  SalePrice        Lat        Lon  BuildingAge  UtilityArea  \\\n0      10006194    3200000  56.742153  16.291778           48          143   \n1      10006232    1700000  57.278909  13.646019           54          120   \n2      10006302    3500000  58.328009  15.103299           47          169   \n3      10006371   11200000  57.739437  14.122176          128          250   \n4      10006399     591000  57.784585  16.146614          112           87   \n\n   LotArea  QualityScore  CloseToBeach  EnergyPerformance  ...  \\\n0      480            36             0               60.0  ...   \n1      750            32             0              114.0  ...   \n2      592            30             0                NaN  ...   \n3     3311            30             0               88.0  ...   \n4     3406            28             0              101.0  ...   \n\n  MunicipalityMoveInFromCountyFrac  MunicipalityMoveOutToCountyFrac  \\\n0                         0.025551                         0.021314   \n1                         0.010123                         0.013869   \n2                         0.034871                         0.028112   \n3                         0.013410                         0.012764   \n4                         0.006766                         0.006466   \n\n   MunicipalityMoveInFrac2yrChangeMean  MunicipalityMoveOutFrac2yrChangeMean  \\\n0                             0.001816                              0.004082   \n1                            -0.007777                              0.006713   \n2                            -0.003267                              0.003278   \n3                            -0.001062                              0.001830   \n4                            -0.001024                             -0.000181   \n\n   MunicipalityMoveInFromCountyFrac2yrChangeMean  \\\n0                                       0.000930   \n1                                      -0.001110   \n2                                      -0.000932   \n3                                       0.000457   \n4                                       0.000441   \n\n  MunicipalityMoveOutToCountyFrac2yrChangeMean  \\\n0                                     0.003437   \n1                                     0.002518   \n2                                     0.000765   \n3                                     0.000039   \n4                                     0.000045   \n\n   MunicipalityPopulationMeanDeviation MedianRentMunicipality  \\\n0                             4.373830                 1155.0   \n1                             1.843030                  999.0   \n2                             1.738860                 1046.0   \n3                             8.857676                 1059.0   \n4                             2.279611                  909.0   \n\n   MedianRentMunicipality2yrFracChangeMean  \\\n0                                 0.091030   \n1                                 0.013451   \n2                                 0.075010   \n3                                 0.061507   \n4                                 0.009151   \n\n   MedianRentMunicipalityMeanDeviation  \n0                             1.123790  \n1                             0.972005  \n2                             1.017735  \n3                             1.030384  \n4                             0.884437  \n\n[5 rows x 174 columns]",
            "text/html": "<div>\n<style scoped>\n    .dataframe tbody tr th:only-of-type {\n        vertical-align: middle;\n    }\n\n    .dataframe tbody tr th {\n        vertical-align: top;\n    }\n\n    .dataframe thead th {\n        text-align: right;\n    }\n</style>\n<table border=\"1\" class=\"dataframe\">\n  <thead>\n    <tr style=\"text-align: right;\">\n      <th></th>\n      <th>TransactionId</th>\n      <th>SalePrice</th>\n      <th>Lat</th>\n      <th>Lon</th>\n      <th>BuildingAge</th>\n      <th>UtilityArea</th>\n      <th>LotArea</th>\n      <th>QualityScore</th>\n      <th>CloseToBeach</th>\n      <th>EnergyPerformance</th>\n      <th>...</th>\n      <th>MunicipalityMoveInFromCountyFrac</th>\n      <th>MunicipalityMoveOutToCountyFrac</th>\n      <th>MunicipalityMoveInFrac2yrChangeMean</th>\n      <th>MunicipalityMoveOutFrac2yrChangeMean</th>\n      <th>MunicipalityMoveInFromCountyFrac2yrChangeMean</th>\n      <th>MunicipalityMoveOutToCountyFrac2yrChangeMean</th>\n      <th>MunicipalityPopulationMeanDeviation</th>\n      <th>MedianRentMunicipality</th>\n      <th>MedianRentMunicipality2yrFracChangeMean</th>\n      <th>MedianRentMunicipalityMeanDeviation</th>\n    </tr>\n  </thead>\n  <tbody>\n    <tr>\n      <th>0</th>\n      <td>10006194</td>\n      <td>3200000</td>\n      <td>56.742153</td>\n      <td>16.291778</td>\n      <td>48</td>\n      <td>143</td>\n      <td>480</td>\n      <td>36</td>\n      <td>0</td>\n      <td>60.0</td>\n      <td>...</td>\n      <td>0.025551</td>\n      <td>0.021314</td>\n      <td>0.001816</td>\n      <td>0.004082</td>\n      <td>0.000930</td>\n      <td>0.003437</td>\n      <td>4.373830</td>\n      <td>1155.0</td>\n      <td>0.091030</td>\n      <td>1.123790</td>\n    </tr>\n    <tr>\n      <th>1</th>\n      <td>10006232</td>\n      <td>1700000</td>\n      <td>57.278909</td>\n      <td>13.646019</td>\n      <td>54</td>\n      <td>120</td>\n      <td>750</td>\n      <td>32</td>\n      <td>0</td>\n      <td>114.0</td>\n      <td>...</td>\n      <td>0.010123</td>\n      <td>0.013869</td>\n      <td>-0.007777</td>\n      <td>0.006713</td>\n      <td>-0.001110</td>\n      <td>0.002518</td>\n      <td>1.843030</td>\n      <td>999.0</td>\n      <td>0.013451</td>\n      <td>0.972005</td>\n    </tr>\n    <tr>\n      <th>2</th>\n      <td>10006302</td>\n      <td>3500000</td>\n      <td>58.328009</td>\n      <td>15.103299</td>\n      <td>47</td>\n      <td>169</td>\n      <td>592</td>\n      <td>30</td>\n      <td>0</td>\n      <td>NaN</td>\n      <td>...</td>\n      <td>0.034871</td>\n      <td>0.028112</td>\n      <td>-0.003267</td>\n      <td>0.003278</td>\n      <td>-0.000932</td>\n      <td>0.000765</td>\n      <td>1.738860</td>\n      <td>1046.0</td>\n      <td>0.075010</td>\n      <td>1.017735</td>\n    </tr>\n    <tr>\n      <th>3</th>\n      <td>10006371</td>\n      <td>11200000</td>\n      <td>57.739437</td>\n      <td>14.122176</td>\n      <td>128</td>\n      <td>250</td>\n      <td>3311</td>\n      <td>30</td>\n      <td>0</td>\n      <td>88.0</td>\n      <td>...</td>\n      <td>0.013410</td>\n      <td>0.012764</td>\n      <td>-0.001062</td>\n      <td>0.001830</td>\n      <td>0.000457</td>\n      <td>0.000039</td>\n      <td>8.857676</td>\n      <td>1059.0</td>\n      <td>0.061507</td>\n      <td>1.030384</td>\n    </tr>\n    <tr>\n      <th>4</th>\n      <td>10006399</td>\n      <td>591000</td>\n      <td>57.784585</td>\n      <td>16.146614</td>\n      <td>112</td>\n      <td>87</td>\n      <td>3406</td>\n      <td>28</td>\n      <td>0</td>\n      <td>101.0</td>\n      <td>...</td>\n      <td>0.006766</td>\n      <td>0.006466</td>\n      <td>-0.001024</td>\n      <td>-0.000181</td>\n      <td>0.000441</td>\n      <td>0.000045</td>\n      <td>2.279611</td>\n      <td>909.0</td>\n      <td>0.009151</td>\n      <td>0.884437</td>\n    </tr>\n  </tbody>\n</table>\n<p>5 rows × 174 columns</p>\n</div>"
          },
          "metadata": {}
        }
      ],
      "execution_count": 2,
      "metadata": {
        "gather": {
          "logged": 1758187044112
        }
      }
    },
    {
      "cell_type": "code",
      "source": [],
      "outputs": [],
      "execution_count": null,
      "metadata": {}
    }
  ],
  "metadata": {
    "kernelspec": {
      "display_name": "Python 3.10 - SDK v2",
      "language": "python",
      "name": "python310-sdkv2"
    },
    "language_info": {
      "codemirror_mode": {
        "name": "ipython",
        "version": 3
      },
      "file_extension": ".py",
      "mimetype": "text/x-python",
      "name": "python",
      "nbconvert_exporter": "python",
      "pygments_lexer": "ipython3",
      "version": "3.10.6"
    },
    "microsoft": {
      "ms_spell_check": {
        "ms_spell_check_language": "en"
      },
      "host": {
        "AzureML": {
          "notebookHasBeenCompleted": true
        }
      }
    },
    "nteract": {
      "version": "nteract-front-end@1.0.0"
    }
  },
  "nbformat": 4,
  "nbformat_minor": 2
}